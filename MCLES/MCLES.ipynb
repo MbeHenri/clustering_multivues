{
 "cells": [
  {
   "attachments": {},
   "cell_type": "markdown",
   "metadata": {},
   "source": [
    "# Modèle `MCLES`"
   ]
  },
  {
   "cell_type": "code",
   "execution_count": 7,
   "metadata": {},
   "outputs": [],
   "source": [
    "import numpy as np\n",
    "import pandas as pd"
   ]
  },
  {
   "attachments": {},
   "cell_type": "markdown",
   "metadata": {},
   "source": [
    "## Chargements des datasets"
   ]
  },
  {
   "cell_type": "code",
   "execution_count": 8,
   "metadata": {},
   "outputs": [],
   "source": [
    "datasets = []"
   ]
  },
  {
   "attachments": {},
   "cell_type": "markdown",
   "metadata": {},
   "source": [
    "### dataset multiple features\n",
    "https://archive.ics.uci.edu/dataset/72/multiple+features"
   ]
  },
  {
   "cell_type": "code",
   "execution_count": 9,
   "metadata": {},
   "outputs": [],
   "source": [
    "fourier_view = np.loadtxt(\"../datasets/multiple+features/mfeat-fou\")\n",
    "f_corr_view = np.loadtxt(\"../datasets/multiple+features/mfeat-fac\")\n",
    "kar_view = np.loadtxt(\"../datasets/multiple+features/mfeat-kar\")\n",
    "pix_avg_view = np.loadtxt(\"../datasets/multiple+features/mfeat-pix\")\n",
    "zer_moment = np.loadtxt(\"../datasets/multiple+features/mfeat-zer\")\n",
    "morphological_view = np.loadtxt(\"../datasets/multiple+features/mfeat-mor\")\n",
    "\n",
    "X = [fourier_view.T, f_corr_view.T, kar_view.T,\n",
    "     pix_avg_view.T, zer_moment.T, morphological_view.T]\n",
    "Y = None\n",
    "\n",
    "dataset_mf = {\"X\": X, \"Y\": Y}\n",
    "# paramètres par défaut pour le modèle\n",
    "dataset_mf[\"parameters\"] = {\n",
    "    \"maxIters\": 10,\n",
    "    \"alpha\": 0.8,\n",
    "    \"beta\": 0.4,\n",
    "    \"d\": 70,\n",
    "    \"gamma\": 0.004,\n",
    "    \"k\": 4,\n",
    "}\n",
    "dataset_mf[\"name\"] = \"multiple_features\"\n",
    "dataset_mf[\"can_use_exp\"] = False"
   ]
  },
  {
   "cell_type": "code",
   "execution_count": 10,
   "metadata": {},
   "outputs": [],
   "source": [
    "datasets.append(dataset_mf)"
   ]
  },
  {
   "attachments": {},
   "cell_type": "markdown",
   "metadata": {},
   "source": [
    "### dataset MSRC-v1\n",
    "\n",
    "https://github.com/ManshengChen/MCLES"
   ]
  },
  {
   "cell_type": "code",
   "execution_count": 11,
   "metadata": {},
   "outputs": [],
   "source": [
    "from scipy.io import loadmat\n",
    "\n",
    "dataset_msrc_v1 = loadmat('../datasets/MSRC-v1.mat')\n",
    "X = []\n",
    "for x in dataset_msrc_v1[\"X\"][0]:\n",
    "    X.append(np.array(x.T, dtype=float))\n",
    "dataset_msrc_v1 = {\"X\": X, \"Y\": np.reshape(dataset_msrc_v1[\"Y\"], (dataset_msrc_v1[\"Y\"].shape[0]))}\n",
    "\n",
    "# paramètres par défaut pour le modèle\n",
    "dataset_msrc_v1[\"parameters\"] = {\n",
    "    \"maxIters\": 10,\n",
    "    \"alpha\": 0.8,\n",
    "    \"beta\": 0.4,\n",
    "    \"d\": 70,\n",
    "    \"gamma\": 0.004,\n",
    "    \"k\": 4,\n",
    "}\n",
    "dataset_msrc_v1[\"name\"] = \"MSRC-v1\"\n",
    "dataset_msrc_v1[\"can_use_exp\"] = True"
   ]
  },
  {
   "cell_type": "code",
   "execution_count": 12,
   "metadata": {},
   "outputs": [],
   "source": [
    "datasets.append(dataset_msrc_v1)"
   ]
  },
  {
   "attachments": {},
   "cell_type": "markdown",
   "metadata": {},
   "source": [
    "## Métriques"
   ]
  },
  {
   "cell_type": "code",
   "execution_count": 13,
   "metadata": {},
   "outputs": [],
   "source": [
    "#> information mutuelle normalisé\n",
    "from sklearn.metrics import normalized_mutual_info_score\n",
    "\n",
    "#> exactitude\n",
    "from sklearn.metrics import confusion_matrix\n",
    "from scipy.optimize import linear_sum_assignment\n",
    "\n",
    "def accuracy_clustering(labels, labels_clusters):\n",
    "    cm = confusion_matrix(labels, labels_clusters)\n",
    "    # on trouve l'allocation idéale en resolvant le problème de maximisation transformé en problème de minimisation\n",
    "    rowCorrect, ColCorrect = linear_sum_assignment(-np.array(cm))\n",
    "    cm = cm[:,ColCorrect]\n",
    "    return np.trace(cm) / np.sum(cm)\n",
    "    \n",
    "#> pureté\n",
    "def purity(labels, labels_clusters):\n",
    "    cm = confusion_matrix(labels, labels_clusters)\n",
    "    return np.sum(np.max(cm, axis=0)) / np.sum(cm)\n"
   ]
  },
  {
   "cell_type": "code",
   "execution_count": 14,
   "metadata": {},
   "outputs": [],
   "source": [
    "def clusteringMeasure(labels, labels_clusters):\n",
    "    return {\n",
    "        \"ACC\" : accuracy_clustering(labels, labels_clusters),\n",
    "        \"NMI\" : normalized_mutual_info_score(labels, labels_clusters),\n",
    "        \"PUR\" : purity(labels, labels_clusters),\n",
    "    }\n",
    "    "
   ]
  },
  {
   "attachments": {},
   "cell_type": "markdown",
   "metadata": {},
   "source": [
    "## Implémentations et expérimentations"
   ]
  },
  {
   "cell_type": "code",
   "execution_count": 15,
   "metadata": {},
   "outputs": [],
   "source": [
    "from sklearn.cluster import KMeans"
   ]
  },
  {
   "attachments": {},
   "cell_type": "markdown",
   "metadata": {},
   "source": [
    "### Code de référence ( écrit en matlab)\n",
    "https://github.com/ManshengChen/MCLES"
   ]
  },
  {
   "attachments": {},
   "cell_type": "markdown",
   "metadata": {},
   "source": [
    "vous devez installé l'outil opensource `octave`, ainsi que son API d'exécution pour python pour pouvoir exécuter le code matlab."
   ]
  },
  {
   "cell_type": "code",
   "execution_count": 16,
   "metadata": {},
   "outputs": [
    {
     "name": "stdout",
     "output_type": "stream",
     "text": [
      "\u001b[1;31mE: \u001b[0mImpossible d'ouvrir le fichier verrou /var/lib/dpkg/lock-frontend - open (13: Permission non accordée)\u001b[0m\n",
      "\u001b[1;31mE: \u001b[0mImpossible d'obtenir le verrou de dpkg (/var/lib/dpkg/lock-frontend). Avez-vous les droits du superutilisateur ?\u001b[0m\n"
     ]
    }
   ],
   "source": [
    "# installation de octave\n",
    "!apt install octave"
   ]
  },
  {
   "cell_type": "code",
   "execution_count": 17,
   "metadata": {},
   "outputs": [
    {
     "name": "stdout",
     "output_type": "stream",
     "text": [
      "Requirement already satisfied: oct2py in /home/mbe/anaconda3/lib/python3.10/site-packages (5.6.0)\n",
      "Requirement already satisfied: scipy>=0.17 in /home/mbe/anaconda3/lib/python3.10/site-packages (from oct2py) (1.10.0)\n",
      "Requirement already satisfied: octave-kernel>=0.34.0 in /home/mbe/anaconda3/lib/python3.10/site-packages (from oct2py) (0.35.1)\n",
      "Requirement already satisfied: numpy>=1.12 in /home/mbe/anaconda3/lib/python3.10/site-packages (from oct2py) (1.23.5)\n",
      "Requirement already satisfied: metakernel>=0.24.0 in /home/mbe/anaconda3/lib/python3.10/site-packages (from octave-kernel>=0.34.0->oct2py) (0.30.0)\n",
      "Requirement already satisfied: jupyter-client>=4.3.0 in /home/mbe/anaconda3/lib/python3.10/site-packages (from octave-kernel>=0.34.0->oct2py) (7.3.4)\n",
      "Requirement already satisfied: ipykernel in /home/mbe/anaconda3/lib/python3.10/site-packages (from octave-kernel>=0.34.0->oct2py) (6.19.2)\n",
      "Requirement already satisfied: tornado>=6.0 in /home/mbe/anaconda3/lib/python3.10/site-packages (from jupyter-client>=4.3.0->octave-kernel>=0.34.0->oct2py) (6.1)\n",
      "Requirement already satisfied: python-dateutil>=2.8.2 in /home/mbe/anaconda3/lib/python3.10/site-packages (from jupyter-client>=4.3.0->octave-kernel>=0.34.0->oct2py) (2.8.2)\n",
      "Requirement already satisfied: pyzmq>=23.0 in /home/mbe/anaconda3/lib/python3.10/site-packages (from jupyter-client>=4.3.0->octave-kernel>=0.34.0->oct2py) (23.2.0)\n",
      "Requirement already satisfied: entrypoints in /home/mbe/anaconda3/lib/python3.10/site-packages (from jupyter-client>=4.3.0->octave-kernel>=0.34.0->oct2py) (0.4)\n",
      "Requirement already satisfied: traitlets in /home/mbe/anaconda3/lib/python3.10/site-packages (from jupyter-client>=4.3.0->octave-kernel>=0.34.0->oct2py) (5.7.1)\n",
      "Requirement already satisfied: nest-asyncio>=1.5.4 in /home/mbe/anaconda3/lib/python3.10/site-packages (from jupyter-client>=4.3.0->octave-kernel>=0.34.0->oct2py) (1.5.6)\n",
      "Requirement already satisfied: jupyter-core>=4.9.2 in /home/mbe/anaconda3/lib/python3.10/site-packages (from jupyter-client>=4.3.0->octave-kernel>=0.34.0->oct2py) (5.2.0)\n",
      "Requirement already satisfied: jedi>=0.18 in /home/mbe/anaconda3/lib/python3.10/site-packages (from metakernel>=0.24.0->octave-kernel>=0.34.0->oct2py) (0.18.1)\n",
      "Requirement already satisfied: pexpect>=4.8 in /home/mbe/anaconda3/lib/python3.10/site-packages (from metakernel>=0.24.0->octave-kernel>=0.34.0->oct2py) (4.8.0)\n",
      "Requirement already satisfied: packaging in /home/mbe/anaconda3/lib/python3.10/site-packages (from ipykernel->octave-kernel>=0.34.0->oct2py) (22.0)\n",
      "Requirement already satisfied: comm>=0.1.1 in /home/mbe/anaconda3/lib/python3.10/site-packages (from ipykernel->octave-kernel>=0.34.0->oct2py) (0.1.2)\n",
      "Requirement already satisfied: ipython>=7.23.1 in /home/mbe/anaconda3/lib/python3.10/site-packages (from ipykernel->octave-kernel>=0.34.0->oct2py) (8.10.0)\n",
      "Requirement already satisfied: psutil in /home/mbe/anaconda3/lib/python3.10/site-packages (from ipykernel->octave-kernel>=0.34.0->oct2py) (5.9.0)\n",
      "Requirement already satisfied: debugpy>=1.0 in /home/mbe/anaconda3/lib/python3.10/site-packages (from ipykernel->octave-kernel>=0.34.0->oct2py) (1.5.1)\n",
      "Requirement already satisfied: matplotlib-inline>=0.1 in /home/mbe/anaconda3/lib/python3.10/site-packages (from ipykernel->octave-kernel>=0.34.0->oct2py) (0.1.6)\n",
      "Requirement already satisfied: pygments>=2.4.0 in /home/mbe/anaconda3/lib/python3.10/site-packages (from ipython>=7.23.1->ipykernel->octave-kernel>=0.34.0->oct2py) (2.11.2)\n",
      "Requirement already satisfied: pickleshare in /home/mbe/anaconda3/lib/python3.10/site-packages (from ipython>=7.23.1->ipykernel->octave-kernel>=0.34.0->oct2py) (0.7.5)\n",
      "Requirement already satisfied: decorator in /home/mbe/anaconda3/lib/python3.10/site-packages (from ipython>=7.23.1->ipykernel->octave-kernel>=0.34.0->oct2py) (5.1.1)\n",
      "Requirement already satisfied: backcall in /home/mbe/anaconda3/lib/python3.10/site-packages (from ipython>=7.23.1->ipykernel->octave-kernel>=0.34.0->oct2py) (0.2.0)\n",
      "Requirement already satisfied: stack-data in /home/mbe/anaconda3/lib/python3.10/site-packages (from ipython>=7.23.1->ipykernel->octave-kernel>=0.34.0->oct2py) (0.2.0)\n",
      "Requirement already satisfied: prompt-toolkit<3.1.0,>=3.0.30 in /home/mbe/anaconda3/lib/python3.10/site-packages (from ipython>=7.23.1->ipykernel->octave-kernel>=0.34.0->oct2py) (3.0.36)\n",
      "Requirement already satisfied: parso<0.9.0,>=0.8.0 in /home/mbe/anaconda3/lib/python3.10/site-packages (from jedi>=0.18->metakernel>=0.24.0->octave-kernel>=0.34.0->oct2py) (0.8.3)\n",
      "Requirement already satisfied: platformdirs>=2.5 in /home/mbe/anaconda3/lib/python3.10/site-packages (from jupyter-core>=4.9.2->jupyter-client>=4.3.0->octave-kernel>=0.34.0->oct2py) (2.5.2)\n",
      "Requirement already satisfied: ptyprocess>=0.5 in /home/mbe/anaconda3/lib/python3.10/site-packages (from pexpect>=4.8->metakernel>=0.24.0->octave-kernel>=0.34.0->oct2py) (0.7.0)\n",
      "Requirement already satisfied: six>=1.5 in /home/mbe/anaconda3/lib/python3.10/site-packages (from python-dateutil>=2.8.2->jupyter-client>=4.3.0->octave-kernel>=0.34.0->oct2py) (1.15.0)\n",
      "Requirement already satisfied: wcwidth in /home/mbe/anaconda3/lib/python3.10/site-packages (from prompt-toolkit<3.1.0,>=3.0.30->ipython>=7.23.1->ipykernel->octave-kernel>=0.34.0->oct2py) (0.2.5)\n",
      "Requirement already satisfied: asttokens in /home/mbe/anaconda3/lib/python3.10/site-packages (from stack-data->ipython>=7.23.1->ipykernel->octave-kernel>=0.34.0->oct2py) (2.0.5)\n",
      "Requirement already satisfied: executing in /home/mbe/anaconda3/lib/python3.10/site-packages (from stack-data->ipython>=7.23.1->ipykernel->octave-kernel>=0.34.0->oct2py) (0.8.3)\n",
      "Requirement already satisfied: pure-eval in /home/mbe/anaconda3/lib/python3.10/site-packages (from stack-data->ipython>=7.23.1->ipykernel->octave-kernel>=0.34.0->oct2py) (0.2.2)\n"
     ]
    }
   ],
   "source": [
    "# installation de l'API\n",
    "!pip install oct2py"
   ]
  },
  {
   "attachments": {},
   "cell_type": "markdown",
   "metadata": {},
   "source": [
    "#### Exécution du modèle sur la dataset  `MSRC-v1`"
   ]
  },
  {
   "cell_type": "code",
   "execution_count": 68,
   "metadata": {},
   "outputs": [
    {
     "name": "stdout",
     "output_type": "stream",
     "text": [
      "y =\n",
      "\n",
      "   3   3\n",
      "\n"
     ]
    },
    {
     "data": {
      "text/plain": [
       "array([[3., 3.]])"
      ]
     },
     "execution_count": 68,
     "metadata": {},
     "output_type": "execute_result"
    }
   ],
   "source": [
    "# test d'utilisation de l'API pour exécuter le code matlab\n",
    "from oct2py import octave\n",
    "\n",
    "octave.addpath(octave.genpath('./MCLES-master/MCLES Code/'))\n",
    "y = octave.feval(\"test.m\", [2 , 2])\n",
    "y"
   ]
  },
  {
   "cell_type": "code",
   "execution_count": null,
   "metadata": {},
   "outputs": [],
   "source": [
    "# hyper-parametres par défaut\n",
    "maxIters = 10\n",
    "alpha = 0.8\n",
    "beta = 0.4\n",
    "d = 70\n",
    "gamma = 0.004\n",
    "\n",
    "# nombre de clusters\n",
    "k = 7\n",
    "\n",
    "# exécution du modèle\n",
    "W, H, S, F, obj = octave.feval(\"MCLES.m\", dataset_msrc_v1[\"X\"], k, alpha, beta, d, gamma, maxIters)"
   ]
  },
  {
   "cell_type": "code",
   "execution_count": null,
   "metadata": {},
   "outputs": [],
   "source": [
    "P=F\n",
    "# attribution des observations aux clusters\n",
    "kmeans = KMeans(\n",
    "    n_clusters=k,\n",
    "    n_init='auto'\n",
    ")\n",
    "kmeans.fit(P)\n",
    "labels_clusters = kmeans.labels_"
   ]
  },
  {
   "attachments": {},
   "cell_type": "markdown",
   "metadata": {},
   "source": [
    "visualisation de la courbe de convergence"
   ]
  },
  {
   "cell_type": "code",
   "execution_count": null,
   "metadata": {},
   "outputs": [],
   "source": [
    "import matplotlib.pyplot as plt\n",
    "\n",
    "plt.xlabel('Itération')\n",
    "plt.ylabel('obj')\n",
    "plt.title(' Convergence')\n",
    "plt.plot(obj)"
   ]
  },
  {
   "attachments": {},
   "cell_type": "markdown",
   "metadata": {},
   "source": [
    "visualisation de le carte des poids (pour apprecier la projection dans l'ensemble des clusters)"
   ]
  },
  {
   "cell_type": "code",
   "execution_count": null,
   "metadata": {},
   "outputs": [
    {
     "data": {
      "image/png": "[encoded data removed]",
      "text/plain": [
       "<Figure size 640x480 with 2 Axes>"
      ]
     },
     "metadata": {},
     "output_type": "display_data"
    }
   ],
   "source": [
    "import seaborn as sns; sns.set()\n",
    "ax = sns.heatmap(H, cmap=\"Blues\")"
   ]
  },
  {
   "attachments": {},
   "cell_type": "markdown",
   "metadata": {},
   "source": [
    "cacul des métriques"
   ]
  },
  {
   "cell_type": "code",
   "execution_count": null,
   "metadata": {},
   "outputs": [],
   "source": [
    "clusteringMeasure(dataset_msrc_v1[\"Y\"], labels_clusters)"
   ]
  },
  {
   "attachments": {},
   "cell_type": "markdown",
   "metadata": {},
   "source": [
    "#### experimentations sur toutes les datasets"
   ]
  },
  {
   "cell_type": "code",
   "execution_count": null,
   "metadata": {},
   "outputs": [],
   "source": [
    "metrics_ref = {\"dataset\": [], \"ACC\": [], \"NMI\": [], \"PUR\": [], }\n",
    "for dataset in datasets:\n",
    "    if dataset[\"can_use_exp\"]:\n",
    "        print('***** Experimentations sur la dataset {} (en cours)'.format(dataset[\"name\"]))\n",
    "        \n",
    "        # recuperation des paramètres pour le modèle\n",
    "        maxIters = dataset[\"parameters\"][\"maxIters\"]\n",
    "        alpha = dataset[\"parameters\"][\"alpha\"]\n",
    "        beta = dataset[\"parameters\"][\"beta\"]\n",
    "        d = dataset[\"parameters\"][\"d\"]\n",
    "        gamma = dataset[\"parameters\"][\"gamma\"]\n",
    "        k = dataset[\"parameters\"][\"k\"]\n",
    "        \n",
    "        # execution du modèle en utilisant les paramètres\n",
    "        _, _, _, P, _ = octave.feval(\n",
    "            \"MCLES.m\", dataset[\"X\"], k, alpha, beta, d, gamma, maxIters)\n",
    "        P = P[0]\n",
    "        \n",
    "        # construction des clusters\n",
    "        kmeans = KMeans(\n",
    "            n_clusters=k,\n",
    "            n_init='auto'\n",
    "        )\n",
    "        kmeans.fit(P)\n",
    "        labels_clusters = kmeans.labels_\n",
    "        \n",
    "        # calcul des métriques\n",
    "        result = clusteringMeasure(dataset_msrc_v1[\"Y\"], labels_clusters)\n",
    "        metrics_ref[\"dataset\"] = dataset[\"name\"]\n",
    "        metrics_ref[\"ACC\"].append(result[\"ACC\"])\n",
    "        metrics_ref[\"NMI\"].append(result[\"NMI\"])\n",
    "        metrics_ref[\"PUR\"].append(result[\"PUR\"])\n",
    "        print(\"fin\\n\")\n"
   ]
  },
  {
   "cell_type": "code",
   "execution_count": null,
   "metadata": {},
   "outputs": [],
   "source": [
    "metrics_ref = pd.DataFrame(metrics_ref)\n",
    "metrics_ref.to_json(\"metrics_ref.json\")\n",
    "metrics_ref"
   ]
  },
  {
   "attachments": {},
   "cell_type": "markdown",
   "metadata": {},
   "source": [
    "### modèle `MCLES` en python"
   ]
  },
  {
   "attachments": {},
   "cell_type": "markdown",
   "metadata": {},
   "source": [
    "#### Implémentaion du modèle\n"
   ]
  },
  {
   "cell_type": "code",
   "execution_count": 20,
   "metadata": {},
   "outputs": [
    {
     "name": "stdout",
     "output_type": "stream",
     "text": [
      "Requirement already satisfied: qpsolvers in /home/mbe/anaconda3/lib/python3.10/site-packages (3.4.0)\n",
      "Requirement already satisfied: ecos>=2.0.8 in /home/mbe/anaconda3/lib/python3.10/site-packages (from qpsolvers) (2.0.12)\n",
      "Requirement already satisfied: daqp>=0.5.1 in /home/mbe/anaconda3/lib/python3.10/site-packages (from qpsolvers) (0.5.1)\n",
      "Requirement already satisfied: scs>=3.2.0 in /home/mbe/anaconda3/lib/python3.10/site-packages (from qpsolvers) (3.2.3)\n",
      "Requirement already satisfied: numpy>=1.15.4 in /home/mbe/anaconda3/lib/python3.10/site-packages (from qpsolvers) (1.23.5)\n",
      "Requirement already satisfied: osqp>=0.6.2 in /home/mbe/anaconda3/lib/python3.10/site-packages (from qpsolvers) (0.6.3)\n",
      "Requirement already satisfied: scipy>=1.2.0 in /home/mbe/anaconda3/lib/python3.10/site-packages (from qpsolvers) (1.10.0)\n",
      "Requirement already satisfied: qdldl in /home/mbe/anaconda3/lib/python3.10/site-packages (from osqp>=0.6.2->qpsolvers) (0.1.7)\n"
     ]
    }
   ],
   "source": [
    "!pip install qpsolvers"
   ]
  },
  {
   "cell_type": "code",
   "execution_count": 60,
   "metadata": {},
   "outputs": [],
   "source": [
    "import numpy as np\n",
    "from scipy.sparse.linalg import eigs\n",
    "from scipy import linalg\n",
    "from sklearn.cluster import KMeans\n",
    "from sklearn import metrics\n",
    "from qpsolvers import solve_qp"
   ]
  },
  {
   "cell_type": "code",
   "execution_count": 61,
   "metadata": {},
   "outputs": [],
   "source": [
    "# fonction de mise à jour de W\n",
    "def UpdateW(H, X, W, rho=0.8, taux=1, maxIters=99, epsilon=1e-6):\n",
    "    # rho_init = 1, taux = 1\n",
    "    # rho_init = 1, taux = 1.1\n",
    "    # rho_init = 1, taux = 0.9\n",
    "    # rho_init = 1.2, taux = 0.9\n",
    "    W_ = np.array(W)\n",
    "    G = np.array(W)\n",
    "    T = np.zeros(W.shape, dtype=float)\n",
    "    d = H.shape[0]\n",
    "    rho = rho\n",
    "    prev_obj = None\n",
    "\n",
    "    A = np.dot(H, H.T) + rho * np.eye(d)\n",
    "    A = A.T\n",
    "    for it in range(maxIters):\n",
    "        error = W_\n",
    "        # compute W(t+1)\n",
    "        B = np.dot(X, H.T) + rho * (G - T)\n",
    "        B = B.T\n",
    "        W_ = np.linalg.solve(A, B)\n",
    "        W_ = W_.T\n",
    "        # compute G(t+1)\n",
    "        G = W_ + T\n",
    "        G = (G.T / np.sqrt(np.sum(G**2, axis=1))).T\n",
    "        # compute T(t+1)\n",
    "        T += W_ - G\n",
    "        # update rho\n",
    "        rho = rho * taux\n",
    "        error = np.mean(np.mean((W_ - error)**2))\n",
    "        \n",
    "        # obj = np.linalg.norm(X - np.dot(W_, H))\n",
    "        # if it > 0 and abs(obj - prev_obj)/prev_obj < epsilon:\n",
    "        #     break\n",
    "        # prev_obj = obj\n",
    "        \n",
    "        if it > 0 and error < epsilon:\n",
    "            break\n",
    "    return W_\n"
   ]
  },
  {
   "cell_type": "code",
   "execution_count": 62,
   "metadata": {},
   "outputs": [],
   "source": [
    "# fonction de mise à jour de H\n",
    "def UpdateH(X, W, S, alpha):\n",
    "    # A = np.dot(W.T, W)\n",
    "    B = np.eye(S.shape[0]) - S\n",
    "    B = alpha * np.dot(B, B.T)\n",
    "    # C = np.dot(W.T, X)\n",
    "    return linalg.solve_sylvester(np.dot(W.T, W), B, np.dot(W.T, X))"
   ]
  },
  {
   "cell_type": "code",
   "execution_count": 63,
   "metadata": {},
   "outputs": [],
   "source": [
    "# fonction de mise à jour de S\n",
    "def UpdateS(H, P, alpha=0.001, beta=0.5, gamma=0.004):\n",
    "    N = H.shape[1]\n",
    "    bi = np.zeros(N, dtype=float)\n",
    "\n",
    "    K = np.dot(H.T, H)\n",
    "    Q = K + (beta/alpha) * np.eye(K.shape[0], dtype=float)\n",
    "    Q = (Q + Q.T)/2\n",
    "\n",
    "    # pour les contraintes linéaire\n",
    "    \n",
    "    \n",
    "    A = np.ones((N, N), dtype=float)\n",
    "    ones = np.ones(N, dtype=float)  # uh , b\n",
    "    zeros = np.zeros(N, dtype=float)  # lh\n",
    "    \n",
    "    S_ = np.zeros((N, N))\n",
    "    for i in range(N):\n",
    "\n",
    "        # calcul de bi\n",
    "        for j in range(N):\n",
    "            bi[j] = np.linalg.norm(P[i, :] - P[j, :])**2\n",
    "\n",
    "        # calcul de r\n",
    "        r = -2*K[i, :] + (gamma / (2*alpha))*bi\n",
    "\n",
    "        # calcul de S:i\n",
    "        Si = solve_qp(Q, r, None, None, A, ones, zeros, ones, solver=\"osqp\")\n",
    "        if Si is not None:\n",
    "            for j in range(N):\n",
    "                S_[j][i] = Si[j]\n",
    "    return S_\n"
   ]
  },
  {
   "cell_type": "code",
   "execution_count": 64,
   "metadata": {},
   "outputs": [],
   "source": [
    "def updateP(S,k):\n",
    "    Z = (S + S.T) / 2\n",
    "    D = np.diag(np.sum(Z, axis=1))\n",
    "    L = D - Z\n",
    "    _, P = eigs(L, k, which='SM')\n",
    "    return L, P"
   ]
  },
  {
   "cell_type": "code",
   "execution_count": 65,
   "metadata": {},
   "outputs": [],
   "source": [
    "def MCLES(X, k, d=45, maxIters=1000, alpha=0.8, beta=0.5, gamma=0.004, epsilon=0.01, maxItersForKmeans=1000, nInitForKmeans=20, verbose=False):\n",
    "    # nombre de vues\n",
    "    V = len(X)\n",
    "    # nombre d'observations\n",
    "    N = X[0].shape[1]\n",
    "\n",
    "    for i in range(V):\n",
    "        # normalisation de chaque observation (on transforme les vecteurs d'observations en leurs vecteurs unitaires)\n",
    "        temp = np.sqrt(np.sum(X[i]**2, axis=0))\n",
    "        X[i] /= temp\n",
    "\n",
    "    X_ = np.concatenate(X, axis=0)\n",
    "    D = [X[i].shape[0] for i in range(V)]\n",
    "    SD = sum(D)\n",
    "    W = np.zeros((SD, d), dtype=float)\n",
    "    H = np.random.rand(d, N)\n",
    "    S = np.zeros((N, N), dtype=float)\n",
    "    P = np.random.rand(N, k)\n",
    "\n",
    "    # tableau des valeurs de la fonction objective\n",
    "    objectives = []\n",
    "\n",
    "    for it in range(maxIters):\n",
    "        #> update W\n",
    "        W = UpdateW(H, X_, W)\n",
    "        #> update H\n",
    "        H = UpdateH(X_, W, S, alpha)\n",
    "        #> update S\n",
    "        S = UpdateS(H, P, alpha, beta, gamma)\n",
    "        #> update P\n",
    "        L, P = updateP(S,k)\n",
    "        \n",
    "        #> vérification de la convergence\n",
    "        #  calcul et enregistrement des valeurs de la fonction objective\n",
    "        obj = np.sum((X_ - np.dot(W, H))**2) + alpha * np.sum((H - np.dot(H, S))**2) \\\n",
    "            + beta * np.sum(S**2) + gamma * \\\n",
    "            np.trace(np.dot(np.dot(P.T, L), P))\n",
    "        objectives.append(obj.real)\n",
    "        if verbose:\n",
    "            print(\"iterations {} : Objective function : {}\".format(it, obj))\n",
    "        if it > 0 and (abs(obj - objectives[it-1])/objectives[it-1]) < epsilon:\n",
    "            break\n",
    "\n",
    "    return {\"W\": W, \"H\": H, \"S\": S, \"P\": P.real, \"obj\": objectives}\n"
   ]
  },
  {
   "attachments": {},
   "cell_type": "markdown",
   "metadata": {},
   "source": [
    "#### Exécution du modèle sur la dataset  `MSRC-v1`"
   ]
  },
  {
   "cell_type": "code",
   "execution_count": 66,
   "metadata": {},
   "outputs": [
    {
     "name": "stderr",
     "output_type": "stream",
     "text": [
      "/home/mbe/anaconda3/lib/python3.10/site-packages/qpsolvers/conversions/ensure_sparse_matrices.py:38: UserWarning: Converted P to scipy.sparse.csc.csc_matrix\n",
      "For best performance, build P as a scipy.sparse.csc_matrix rather than as a numpy.ndarray\n",
      "  warnings.warn(\n",
      "/home/mbe/anaconda3/lib/python3.10/site-packages/qpsolvers/conversions/ensure_sparse_matrices.py:38: UserWarning: Converted A to scipy.sparse.csc.csc_matrix\n",
      "For best performance, build A as a scipy.sparse.csc_matrix rather than as a numpy.ndarray\n",
      "  warnings.warn(\n"
     ]
    },
    {
     "name": "stdout",
     "output_type": "stream",
     "text": [
      "iterations 0 : Objective function : (394.8079303804542+0j)\n",
      "iterations 1 : Objective function : (17.17032868321564+0j)\n",
      "iterations 2 : Objective function : (16.55342815092239+0j)\n",
      "iterations 3 : Objective function : (16.259823668054356+0j)\n",
      "iterations 4 : Objective function : (15.985455898517626+0j)\n",
      "iterations 5 : Objective function : (15.74176186498392+0j)\n",
      "iterations 6 : Objective function : (15.506139181559831+0j)\n",
      "iterations 7 : Objective function : (15.2830813972138+0j)\n",
      "iterations 8 : Objective function : (15.087613506919576+0j)\n",
      "iterations 9 : Objective function : (14.898046612899043+0j)\n"
     ]
    }
   ],
   "source": [
    "# hyper-parametres par défaut\n",
    "maxIters = 10\n",
    "alpha = 0.8\n",
    "beta = 0.4\n",
    "d = 70\n",
    "gamma = 0.004\n",
    "\n",
    "# nombre de clusters\n",
    "k = 7\n",
    "\n",
    "# exécution du modèle\n",
    "result = MCLES(dataset_msrc_v1[\"X\"], k, alpha=alpha, beta=beta, d=d, gamma=gamma, maxIters=maxIters, verbose=True)"
   ]
  },
  {
   "attachments": {},
   "cell_type": "markdown",
   "metadata": {},
   "source": [
    "visualisation de la courbe de convergence"
   ]
  },
  {
   "cell_type": "code",
   "execution_count": 67,
   "metadata": {},
   "outputs": [
    {
     "data": {
      "text/plain": [
       "[<matplotlib.lines.Line2D at 0x7fb78b0e34c0>]"
      ]
     },
     "execution_count": 67,
     "metadata": {},
     "output_type": "execute_result"
    },
    {
     "data": {
      "image/png": "[encoded data removed]",
      "text/plain": [
       "<Figure size 640x480 with 1 Axes>"
      ]
     },
     "metadata": {},
     "output_type": "display_data"
    }
   ],
   "source": [
    "import seaborn as sns; sns.set()\n",
    "import matplotlib.pyplot as plt\n",
    "obj = result[\"obj\"]\n",
    "plt.xlabel('Itération')\n",
    "plt.ylabel('obj')\n",
    "plt.title(' Convergence')\n",
    "plt.plot(obj)"
   ]
  },
  {
   "attachments": {},
   "cell_type": "markdown",
   "metadata": {},
   "source": [
    "visualisation des observations dans l'espace des clusters"
   ]
  },
  {
   "cell_type": "code",
   "execution_count": 32,
   "metadata": {},
   "outputs": [
    {
     "data": {
      "image/png": "[encoded data removed]",
      "text/plain": [
       "<Figure size 640x480 with 2 Axes>"
      ]
     },
     "metadata": {},
     "output_type": "display_data"
    }
   ],
   "source": [
    "import seaborn as sns; sns.set()\n",
    "ax = sns.heatmap(result[\"P\"], cmap=\"Blues\")"
   ]
  },
  {
   "attachments": {},
   "cell_type": "markdown",
   "metadata": {},
   "source": [
    "cacul des métriques"
   ]
  },
  {
   "cell_type": "code",
   "execution_count": 37,
   "metadata": {},
   "outputs": [
    {
     "data": {
      "text/plain": [
       "{'ACC': 0.7285714285714285,\n",
       " 'NMI': 0.6960020199805093,\n",
       " 'PUR': 0.7714285714285715}"
      ]
     },
     "execution_count": 37,
     "metadata": {},
     "output_type": "execute_result"
    }
   ],
   "source": [
    "kmeans = KMeans(\n",
    "    n_clusters=k,\n",
    "    n_init='auto'\n",
    ")\n",
    "kmeans.fit(result[\"P\"])\n",
    "labels_clusters = kmeans.labels_\n",
    "clusteringMeasure(dataset_msrc_v1[\"Y\"], labels_clusters)\n"
   ]
  },
  {
   "attachments": {},
   "cell_type": "markdown",
   "metadata": {},
   "source": [
    "#### experimentations sur toutes les datasets"
   ]
  },
  {
   "cell_type": "code",
   "execution_count": 41,
   "metadata": {},
   "outputs": [
    {
     "name": "stdout",
     "output_type": "stream",
     "text": [
      "***** Experimentations sur la dataset MSRC-v1 (en cours)\n"
     ]
    },
    {
     "name": "stderr",
     "output_type": "stream",
     "text": [
      "/home/mbe/anaconda3/lib/python3.10/site-packages/qpsolvers/conversions/ensure_sparse_matrices.py:38: UserWarning: Converted P to scipy.sparse.csc.csc_matrix\n",
      "For best performance, build P as a scipy.sparse.csc_matrix rather than as a numpy.ndarray\n",
      "  warnings.warn(\n",
      "/home/mbe/anaconda3/lib/python3.10/site-packages/qpsolvers/conversions/ensure_sparse_matrices.py:38: UserWarning: Converted A to scipy.sparse.csc.csc_matrix\n",
      "For best performance, build A as a scipy.sparse.csc_matrix rather than as a numpy.ndarray\n",
      "  warnings.warn(\n"
     ]
    },
    {
     "name": "stdout",
     "output_type": "stream",
     "text": [
      "fin\n",
      "\n"
     ]
    }
   ],
   "source": [
    "metrics_me = {\"dataset\": [], \"ACC\": [], \"NMI\": [], \"PUR\": [], }\n",
    "for dataset in datasets:\n",
    "    if dataset[\"can_use_exp\"]:\n",
    "        print('***** Experimentations sur la dataset {} (en cours)'.format(dataset[\"name\"]))\n",
    "        \n",
    "        # recuperation des paramètres pour le modèle\n",
    "        maxIters = dataset[\"parameters\"][\"maxIters\"]\n",
    "        alpha = dataset[\"parameters\"][\"alpha\"]\n",
    "        beta = dataset[\"parameters\"][\"beta\"]\n",
    "        d = dataset[\"parameters\"][\"d\"]\n",
    "        gamma = dataset[\"parameters\"][\"gamma\"]\n",
    "        k = dataset[\"parameters\"][\"k\"]\n",
    "        \n",
    "        # execution du modèle en utilisant les paramètres\n",
    "        result = MCLES(dataset[\"X\"], k, alpha=alpha, beta=beta, d=d, gamma=gamma, maxIters=maxIters)\n",
    "        \n",
    "        # construction des clusters\n",
    "        kmeans = KMeans(\n",
    "            n_clusters=k,\n",
    "            n_init='auto'\n",
    "        )\n",
    "        kmeans.fit(result[\"P\"])\n",
    "        labels_clusters = kmeans.labels_\n",
    "        \n",
    "        # calcul des métriques\n",
    "        result = clusteringMeasure(dataset_msrc_v1[\"Y\"], labels_clusters)\n",
    "        metrics_me[\"dataset\"] = dataset[\"name\"]\n",
    "        metrics_me[\"ACC\"].append(result[\"ACC\"])\n",
    "        metrics_me[\"NMI\"].append(result[\"NMI\"])\n",
    "        metrics_me[\"PUR\"].append(result[\"PUR\"])\n",
    "        print(\"fin\\n\")\n"
   ]
  },
  {
   "cell_type": "code",
   "execution_count": 40,
   "metadata": {},
   "outputs": [
    {
     "data": {
      "text/html": [
       "<div>\n",
       "<style scoped>\n",
       "    .dataframe tbody tr th:only-of-type {\n",
       "        vertical-align: middle;\n",
       "    }\n",
       "\n",
       "    .dataframe tbody tr th {\n",
       "        vertical-align: top;\n",
       "    }\n",
       "\n",
       "    .dataframe thead th {\n",
       "        text-align: right;\n",
       "    }\n",
       "</style>\n",
       "<table border=\"1\" class=\"dataframe\">\n",
       "  <thead>\n",
       "    <tr style=\"text-align: right;\">\n",
       "      <th></th>\n",
       "      <th>dataset</th>\n",
       "      <th>ACC</th>\n",
       "      <th>NMI</th>\n",
       "      <th>PUR</th>\n",
       "    </tr>\n",
       "  </thead>\n",
       "  <tbody>\n",
       "    <tr>\n",
       "      <th>0</th>\n",
       "      <td>MSRC-v1</td>\n",
       "      <td>0.552381</td>\n",
       "      <td>0.56165</td>\n",
       "      <td>0.552381</td>\n",
       "    </tr>\n",
       "  </tbody>\n",
       "</table>\n",
       "</div>"
      ],
      "text/plain": [
       "   dataset       ACC      NMI       PUR\n",
       "0  MSRC-v1  0.552381  0.56165  0.552381"
      ]
     },
     "execution_count": 40,
     "metadata": {},
     "output_type": "execute_result"
    }
   ],
   "source": [
    "metrics_me = pd.DataFrame(metrics_me)\n",
    "metrics_me.to_json(\"metrics_me.json\")\n",
    "metrics_me"
   ]
  },
  {
   "cell_type": "code",
   "execution_count": null,
   "metadata": {},
   "outputs": [],
   "source": []
  }
 ],
 "metadata": {
  "kernelspec": {
   "display_name": "Python 3.10.9 ('base')",
   "language": "python",
   "name": "python3"
  },
  "language_info": {
   "codemirror_mode": {
    "name": "ipython",
    "version": 3
   },
   "file_extension": ".py",
   "mimetype": "text/x-python",
   "name": "python",
   "nbconvert_exporter": "python",
   "pygments_lexer": "ipython3",
   "version": "3.10.9"
  },
  "orig_nbformat": 4,
  "vscode": {
   "interpreter": {
    "hash": "60f388d0588c717d436b1e7a54042599b5c2d909826589dfb14cd29e2df9cda0"
   }
  }
 },
 "nbformat": 4,
 "nbformat_minor": 2
}
