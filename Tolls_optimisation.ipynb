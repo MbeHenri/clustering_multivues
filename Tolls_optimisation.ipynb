{
 "cells": [
  {
   "attachments": {},
   "cell_type": "markdown",
   "metadata": {},
   "source": [
    "### Outils pour la résolution des problèmes d'optimisation"
   ]
  },
  {
   "cell_type": "code",
   "execution_count": 4,
   "metadata": {},
   "outputs": [],
   "source": [
    "import numpy as np"
   ]
  },
  {
   "attachments": {},
   "cell_type": "markdown",
   "metadata": {},
   "source": [
    "#### Outil pour la résolution d'une  `equation de syvester` \n",
    "$AX + XB = C$\n",
    "\n",
    "X étant l'inconnu"
   ]
  },
  {
   "cell_type": "code",
   "execution_count": 5,
   "metadata": {},
   "outputs": [
    {
     "name": "stdout",
     "output_type": "stream",
     "text": [
      "[[-0.04166667  0.79166667]\n",
      " [ 0.125      -0.375     ]]\n"
     ]
    }
   ],
   "source": [
    "from scipy import linalg\n",
    "A = np.array([[1, 2], [3, 4]])\n",
    "B = np.array([[0, 1],[1, 0]])\n",
    "C = np.array([[1, 0],[0, 1]])\n",
    "X = linalg.solve_sylvester(A, B, C)\n",
    "print(X)"
   ]
  },
  {
   "cell_type": "code",
   "execution_count": 6,
   "metadata": {},
   "outputs": [
    {
     "data": {
      "text/plain": [
       "3.287014905352939e-16"
      ]
     },
     "execution_count": 6,
     "metadata": {},
     "output_type": "execute_result"
    }
   ],
   "source": [
    "np.linalg.norm( np.dot(A,X) + np.dot(X, B) - C , ord='fro')\n"
   ]
  },
  {
   "attachments": {},
   "cell_type": "markdown",
   "metadata": {},
   "source": [
    "#### Outil pour résoudre une `equation linéaire` \n",
    "$AX = B$\n",
    "\n",
    "X étant l'inconnu"
   ]
  },
  {
   "cell_type": "code",
   "execution_count": 7,
   "metadata": {},
   "outputs": [
    {
     "name": "stdout",
     "output_type": "stream",
     "text": [
      "[[-2.   1. ]\n",
      " [ 1.5 -0.5]]\n"
     ]
    }
   ],
   "source": [
    "from scipy import linalg \n",
    "\n",
    "A = np.array([[1, 2], [3, 4]])\n",
    "B = np.array([[1, 0],[0, 1]])\n",
    "X = linalg.solve(A,B)\n",
    "print(X)"
   ]
  },
  {
   "cell_type": "code",
   "execution_count": 8,
   "metadata": {},
   "outputs": [
    {
     "data": {
      "text/plain": [
       "3.3306690738754696e-16"
      ]
     },
     "execution_count": 8,
     "metadata": {},
     "output_type": "execute_result"
    }
   ],
   "source": [
    "np.linalg.norm( np.dot(A,X) - B , ord='fro')\n"
   ]
  },
  {
   "attachments": {},
   "cell_type": "markdown",
   "metadata": {},
   "source": [
    "#### Outil pour résoudre un `problème d'optimisation quadratique` \n",
    "$\\min_{x} x^{T}r + x^{T}Qx \\\\ \\text{  s.t } Ax = b , Gx \\leq h, lb \\leq x \\leq ub$"
   ]
  },
  {
   "cell_type": "code",
   "execution_count": 9,
   "metadata": {},
   "outputs": [
    {
     "name": "stdout",
     "output_type": "stream",
     "text": [
      "Requirement already satisfied: qpsolvers in /home/mbe/anaconda3/lib/python3.10/site-packages (3.4.0)\n",
      "Requirement already satisfied: scs>=3.2.0 in /home/mbe/anaconda3/lib/python3.10/site-packages (from qpsolvers) (3.2.3)\n",
      "Requirement already satisfied: daqp>=0.5.1 in /home/mbe/anaconda3/lib/python3.10/site-packages (from qpsolvers) (0.5.1)\n",
      "Requirement already satisfied: ecos>=2.0.8 in /home/mbe/anaconda3/lib/python3.10/site-packages (from qpsolvers) (2.0.12)\n",
      "Requirement already satisfied: scipy>=1.2.0 in /home/mbe/anaconda3/lib/python3.10/site-packages (from qpsolvers) (1.10.0)\n",
      "Requirement already satisfied: osqp>=0.6.2 in /home/mbe/anaconda3/lib/python3.10/site-packages (from qpsolvers) (0.6.3)\n",
      "Requirement already satisfied: numpy>=1.15.4 in /home/mbe/anaconda3/lib/python3.10/site-packages (from qpsolvers) (1.23.5)\n",
      "Requirement already satisfied: qdldl in /home/mbe/anaconda3/lib/python3.10/site-packages (from osqp>=0.6.2->qpsolvers) (0.1.7)\n"
     ]
    }
   ],
   "source": [
    "!pip install qpsolvers"
   ]
  },
  {
   "cell_type": "code",
   "execution_count": 10,
   "metadata": {},
   "outputs": [
    {
     "data": {
      "text/plain": [
       "['daqp', 'ecos', 'osqp', 'scs']"
      ]
     },
     "execution_count": 10,
     "metadata": {},
     "output_type": "execute_result"
    }
   ],
   "source": [
    "import qpsolvers\n",
    "\n",
    "qpsolvers.available_solvers"
   ]
  },
  {
   "cell_type": "code",
   "execution_count": 11,
   "metadata": {},
   "outputs": [
    {
     "name": "stdout",
     "output_type": "stream",
     "text": [
      "QP solution: x = [0.21747409 0.14792714 0.63442691]\n"
     ]
    },
    {
     "name": "stderr",
     "output_type": "stream",
     "text": [
      "/home/mbe/anaconda3/lib/python3.10/site-packages/qpsolvers/conversions/ensure_sparse_matrices.py:38: UserWarning: Converted P to scipy.sparse.csc.csc_matrix\n",
      "For best performance, build P as a scipy.sparse.csc_matrix rather than as a numpy.ndarray\n",
      "  warnings.warn(\n",
      "/home/mbe/anaconda3/lib/python3.10/site-packages/qpsolvers/conversions/ensure_sparse_matrices.py:38: UserWarning: Converted A to scipy.sparse.csc.csc_matrix\n",
      "For best performance, build A as a scipy.sparse.csc_matrix rather than as a numpy.ndarray\n",
      "  warnings.warn(\n"
     ]
    }
   ],
   "source": [
    "from qpsolvers import solve_qp\n",
    "\n",
    "M = np.array([[1.0, 2.0, 0.0], [-8.0, 3.0, 2.0], [0.0, 1.0, 1.0]])\n",
    "# for objective function\n",
    "Q = np.dot(M.T, M)   # this is a positive definite matrix\n",
    "r = np.array([3.0, 2.0, 3.0])\n",
    "\n",
    "# for linear inequality contraint\n",
    "G = np.array([[1.0, -10, 1.0], [2.0, 0.0, 1.0], [-1.0, 2.0, -1.0]])\n",
    "h = np.array([3.0, 2.0, -2.0])\n",
    "lb = np.array([-1, -1, -1])\n",
    "ub = np.array([5, 5, 5])\n",
    "\n",
    "# for linear equality contraint\n",
    "A = np.array([1.0, 1.0, 1.0])\n",
    "b = np.array([1.0])\n",
    "\n",
    "x = solve_qp(Q, r, None, None, A, b,lb=lb,ub=ub, solver='osqp')\n",
    "print(f\"QP solution: x = {x}\")\n"
   ]
  },
  {
   "cell_type": "code",
   "execution_count": 12,
   "metadata": {},
   "outputs": [
    {
     "data": {
      "text/plain": [
       "array([0.21747409, 0.14792714, 0.63442691])"
      ]
     },
     "execution_count": 12,
     "metadata": {},
     "output_type": "execute_result"
    }
   ],
   "source": [
    "x"
   ]
  },
  {
   "cell_type": "code",
   "execution_count": null,
   "metadata": {},
   "outputs": [],
   "source": []
  }
 ],
 "metadata": {
  "kernelspec": {
   "display_name": "Python 3.10.9 ('base')",
   "language": "python",
   "name": "python3"
  },
  "language_info": {
   "codemirror_mode": {
    "name": "ipython",
    "version": 3
   },
   "file_extension": ".py",
   "mimetype": "text/x-python",
   "name": "python",
   "nbconvert_exporter": "python",
   "pygments_lexer": "ipython3",
   "version": "3.10.9"
  },
  "orig_nbformat": 4,
  "vscode": {
   "interpreter": {
    "hash": "60f388d0588c717d436b1e7a54042599b5c2d909826589dfb14cd29e2df9cda0"
   }
  }
 },
 "nbformat": 4,
 "nbformat_minor": 2
}
