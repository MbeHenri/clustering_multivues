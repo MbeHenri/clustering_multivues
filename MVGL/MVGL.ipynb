{
 "cells": [
  {
   "attachments": {},
   "cell_type": "markdown",
   "metadata": {},
   "source": [
    "# Modèle `MVGL`"
   ]
  },
  {
   "cell_type": "code",
   "execution_count": 1,
   "metadata": {},
   "outputs": [],
   "source": [
    "import numpy as np\n",
    "import pandas as pd"
   ]
  },
  {
   "attachments": {},
   "cell_type": "markdown",
   "metadata": {},
   "source": [
    "## Chargements des datasets"
   ]
  },
  {
   "cell_type": "code",
   "execution_count": 2,
   "metadata": {},
   "outputs": [],
   "source": [
    "datasets = []"
   ]
  },
  {
   "attachments": {},
   "cell_type": "markdown",
   "metadata": {},
   "source": [
    "### dataset multiple features\n",
    "https://archive.ics.uci.edu/dataset/72/multiple+features"
   ]
  },
  {
   "cell_type": "code",
   "execution_count": 3,
   "metadata": {},
   "outputs": [],
   "source": [
    "fourier_view = np.loadtxt(\"../datasets/multiple+features/mfeat-fou\")\n",
    "f_corr_view = np.loadtxt(\"../datasets/multiple+features/mfeat-fac\")\n",
    "kar_view = np.loadtxt(\"../datasets/multiple+features/mfeat-kar\")\n",
    "pix_avg_view = np.loadtxt(\"../datasets/multiple+features/mfeat-pix\")\n",
    "zer_moment = np.loadtxt(\"../datasets/multiple+features/mfeat-zer\")\n",
    "morphological_view = np.loadtxt(\"../datasets/multiple+features/mfeat-mor\")\n",
    "\n",
    "X = [fourier_view.T, f_corr_view.T, kar_view.T,\n",
    "     pix_avg_view.T, zer_moment.T, morphological_view.T]\n",
    "\n",
    "dataset_mf = {\"X\": X, \"Y\": None}\n",
    "# paramètres par défaut pour le modèle\n",
    "dataset_mf[\"parameters\"] = {\n",
    "    \"k\": 7,\n",
    "}\n",
    "dataset_mf[\"name\"] = \"multiple_features\"\n",
    "dataset_mf[\"can_use_exp\"] = False"
   ]
  },
  {
   "cell_type": "code",
   "execution_count": 4,
   "metadata": {},
   "outputs": [],
   "source": [
    "datasets.append(dataset_mf)"
   ]
  },
  {
   "attachments": {},
   "cell_type": "markdown",
   "metadata": {},
   "source": [
    "### dataset MSRC-v1\n",
    "\n",
    "https://github.com/ManshengChen/MCLES"
   ]
  },
  {
   "cell_type": "code",
   "execution_count": 5,
   "metadata": {},
   "outputs": [],
   "source": [
    "from scipy.io import loadmat\n",
    "\n",
    "dataset_msrc_v1 = loadmat('../datasets/MSRC-v1.mat')\n",
    "X = []\n",
    "for x in dataset_msrc_v1[\"X\"][0]:\n",
    "    X.append(np.array(x.T, dtype=float))\n",
    "dataset_msrc_v1 = {\"X\": X, \"Y\": np.reshape(dataset_msrc_v1[\"Y\"], (dataset_msrc_v1[\"Y\"].shape[0]))}\n",
    "\n",
    "# paramètres par défaut pour le modèle\n",
    "dataset_msrc_v1[\"parameters\"] = {\n",
    "    \"k\": 7,\n",
    "}\n",
    "dataset_msrc_v1[\"name\"] = \"MSRC-v1\"\n",
    "dataset_msrc_v1[\"can_use_exp\"] = True"
   ]
  },
  {
   "cell_type": "code",
   "execution_count": 6,
   "metadata": {},
   "outputs": [],
   "source": [
    "datasets.append(dataset_msrc_v1)"
   ]
  },
  {
   "attachments": {},
   "cell_type": "markdown",
   "metadata": {},
   "source": [
    "## Métriques"
   ]
  },
  {
   "cell_type": "code",
   "execution_count": 7,
   "metadata": {},
   "outputs": [],
   "source": [
    "#> information mutuelle normalisé\n",
    "from sklearn.metrics import normalized_mutual_info_score\n",
    "\n",
    "#> exactitude\n",
    "from sklearn.metrics import confusion_matrix\n",
    "from scipy.optimize import linear_sum_assignment\n",
    "\n",
    "def accuracy_clustering(labels, labels_clusters):\n",
    "    cm = confusion_matrix(labels, labels_clusters)\n",
    "    # on trouve l'allocation idéale en resolvant le problème de maximisation transformé en problème de minimisation\n",
    "    rowCorrect, ColCorrect = linear_sum_assignment(-np.array(cm))\n",
    "    cm = cm[:,ColCorrect]\n",
    "    return np.trace(cm) / np.sum(cm)\n",
    "    \n",
    "#> pureté\n",
    "def purity(labels, labels_clusters):\n",
    "    cm = confusion_matrix(labels, labels_clusters)\n",
    "    return np.sum(np.max(cm, axis=0)) / np.sum(cm)\n"
   ]
  },
  {
   "cell_type": "code",
   "execution_count": 8,
   "metadata": {},
   "outputs": [],
   "source": [
    "def clusteringMeasure(labels, labels_clusters):\n",
    "    return {\n",
    "        \"ACC\" : accuracy_clustering(labels, labels_clusters),\n",
    "        \"NMI\" : normalized_mutual_info_score(labels, labels_clusters),\n",
    "        \"PUR\" : purity(labels, labels_clusters),\n",
    "    }\n",
    "    "
   ]
  },
  {
   "attachments": {},
   "cell_type": "markdown",
   "metadata": {},
   "source": [
    "## Implémentations et expérimentations"
   ]
  },
  {
   "cell_type": "code",
   "execution_count": 9,
   "metadata": {},
   "outputs": [],
   "source": [
    "import networkx as nx"
   ]
  },
  {
   "cell_type": "code",
   "execution_count": 10,
   "metadata": {},
   "outputs": [],
   "source": [
    "# construct graph of similarity\n",
    "\n",
    "def construct_graph_similarity(A):\n",
    "    N = A.shape[0]\n",
    "\n",
    "    # Création du graphe\n",
    "    graph = nx.Graph()\n",
    "\n",
    "    # Ajout des nœuds\n",
    "    graph.add_nodes_from(range(N))\n",
    "\n",
    "    # Ajout des arêtes\n",
    "    for i in range(N):\n",
    "        for j in range(i+1, N):\n",
    "            if A[i][j] > 0:\n",
    "                graph.add_edge(i, j, weight=A[i][j])\n",
    "\n",
    "    return graph\n",
    "\n",
    "\n",
    "def labels_connected_component(G: nx.Graph):\n",
    "    labels = np.zeros(G.number_of_nodes())\n",
    "    k = 0\n",
    "    for c in sorted(nx.connected_components(G), key=len, reverse=True):\n",
    "        labels[list(c)] = k\n",
    "        k = k+1\n",
    "\n",
    "    return labels\n"
   ]
  },
  {
   "attachments": {},
   "cell_type": "markdown",
   "metadata": {},
   "source": [
    "### Code de référence ( écrit en matlab)\n",
    "https://github.com/kunzhan/MVGL"
   ]
  },
  {
   "attachments": {},
   "cell_type": "markdown",
   "metadata": {},
   "source": [
    "vous devez installé l'outil opensource `octave`, ainsi que son API d'exécution pour python pour pouvoir exécuter le code matlab."
   ]
  },
  {
   "cell_type": "code",
   "execution_count": 11,
   "metadata": {},
   "outputs": [
    {
     "name": "stdout",
     "output_type": "stream",
     "text": [
      "\u001b[1;31mE: \u001b[0mImpossible d'ouvrir le fichier verrou /var/lib/dpkg/lock-frontend - open (13: Permission non accordée)\u001b[0m\n",
      "\u001b[1;31mE: \u001b[0mImpossible d'obtenir le verrou de dpkg (/var/lib/dpkg/lock-frontend). Avez-vous les droits du superutilisateur ?\u001b[0m\n"
     ]
    }
   ],
   "source": [
    "# installation de octave\n",
    "!apt install octave"
   ]
  },
  {
   "cell_type": "code",
   "execution_count": 2,
   "metadata": {},
   "outputs": [
    {
     "name": "stdout",
     "output_type": "stream",
     "text": [
      "Requirement already satisfied: oct2py in /home/mbe/anaconda3/lib/python3.10/site-packages (5.6.0)\n",
      "Requirement already satisfied: scipy>=0.17 in /home/mbe/anaconda3/lib/python3.10/site-packages (from oct2py) (1.10.0)\n",
      "Requirement already satisfied: octave-kernel>=0.34.0 in /home/mbe/anaconda3/lib/python3.10/site-packages (from oct2py) (0.35.1)\n",
      "Requirement already satisfied: numpy>=1.12 in /home/mbe/anaconda3/lib/python3.10/site-packages (from oct2py) (1.23.5)\n",
      "Requirement already satisfied: jupyter-client>=4.3.0 in /home/mbe/anaconda3/lib/python3.10/site-packages (from octave-kernel>=0.34.0->oct2py) (7.3.4)\n",
      "Requirement already satisfied: metakernel>=0.24.0 in /home/mbe/anaconda3/lib/python3.10/site-packages (from octave-kernel>=0.34.0->oct2py) (0.30.0)\n",
      "Requirement already satisfied: ipykernel in /home/mbe/anaconda3/lib/python3.10/site-packages (from octave-kernel>=0.34.0->oct2py) (6.19.2)\n",
      "Requirement already satisfied: entrypoints in /home/mbe/anaconda3/lib/python3.10/site-packages (from jupyter-client>=4.3.0->octave-kernel>=0.34.0->oct2py) (0.4)\n",
      "Requirement already satisfied: nest-asyncio>=1.5.4 in /home/mbe/anaconda3/lib/python3.10/site-packages (from jupyter-client>=4.3.0->octave-kernel>=0.34.0->oct2py) (1.5.6)\n",
      "Requirement already satisfied: traitlets in /home/mbe/anaconda3/lib/python3.10/site-packages (from jupyter-client>=4.3.0->octave-kernel>=0.34.0->oct2py) (5.7.1)\n",
      "Requirement already satisfied: python-dateutil>=2.8.2 in /home/mbe/anaconda3/lib/python3.10/site-packages (from jupyter-client>=4.3.0->octave-kernel>=0.34.0->oct2py) (2.8.2)\n",
      "Requirement already satisfied: pyzmq>=23.0 in /home/mbe/anaconda3/lib/python3.10/site-packages (from jupyter-client>=4.3.0->octave-kernel>=0.34.0->oct2py) (23.2.0)\n",
      "Requirement already satisfied: jupyter-core>=4.9.2 in /home/mbe/anaconda3/lib/python3.10/site-packages (from jupyter-client>=4.3.0->octave-kernel>=0.34.0->oct2py) (5.2.0)\n",
      "Requirement already satisfied: tornado>=6.0 in /home/mbe/anaconda3/lib/python3.10/site-packages (from jupyter-client>=4.3.0->octave-kernel>=0.34.0->oct2py) (6.1)\n",
      "Requirement already satisfied: jedi>=0.18 in /home/mbe/anaconda3/lib/python3.10/site-packages (from metakernel>=0.24.0->octave-kernel>=0.34.0->oct2py) (0.18.1)\n",
      "Requirement already satisfied: pexpect>=4.8 in /home/mbe/anaconda3/lib/python3.10/site-packages (from metakernel>=0.24.0->octave-kernel>=0.34.0->oct2py) (4.8.0)\n",
      "Requirement already satisfied: comm>=0.1.1 in /home/mbe/anaconda3/lib/python3.10/site-packages (from ipykernel->octave-kernel>=0.34.0->oct2py) (0.1.2)\n",
      "Requirement already satisfied: psutil in /home/mbe/anaconda3/lib/python3.10/site-packages (from ipykernel->octave-kernel>=0.34.0->oct2py) (5.9.0)\n",
      "Requirement already satisfied: packaging in /home/mbe/anaconda3/lib/python3.10/site-packages (from ipykernel->octave-kernel>=0.34.0->oct2py) (22.0)\n",
      "Requirement already satisfied: debugpy>=1.0 in /home/mbe/anaconda3/lib/python3.10/site-packages (from ipykernel->octave-kernel>=0.34.0->oct2py) (1.5.1)\n",
      "Requirement already satisfied: ipython>=7.23.1 in /home/mbe/anaconda3/lib/python3.10/site-packages (from ipykernel->octave-kernel>=0.34.0->oct2py) (8.10.0)\n",
      "Requirement already satisfied: matplotlib-inline>=0.1 in /home/mbe/anaconda3/lib/python3.10/site-packages (from ipykernel->octave-kernel>=0.34.0->oct2py) (0.1.6)\n",
      "Requirement already satisfied: backcall in /home/mbe/anaconda3/lib/python3.10/site-packages (from ipython>=7.23.1->ipykernel->octave-kernel>=0.34.0->oct2py) (0.2.0)\n",
      "Requirement already satisfied: stack-data in /home/mbe/anaconda3/lib/python3.10/site-packages (from ipython>=7.23.1->ipykernel->octave-kernel>=0.34.0->oct2py) (0.2.0)\n",
      "Requirement already satisfied: prompt-toolkit<3.1.0,>=3.0.30 in /home/mbe/anaconda3/lib/python3.10/site-packages (from ipython>=7.23.1->ipykernel->octave-kernel>=0.34.0->oct2py) (3.0.36)\n",
      "Requirement already satisfied: pickleshare in /home/mbe/anaconda3/lib/python3.10/site-packages (from ipython>=7.23.1->ipykernel->octave-kernel>=0.34.0->oct2py) (0.7.5)\n",
      "Requirement already satisfied: decorator in /home/mbe/anaconda3/lib/python3.10/site-packages (from ipython>=7.23.1->ipykernel->octave-kernel>=0.34.0->oct2py) (5.1.1)\n",
      "Requirement already satisfied: pygments>=2.4.0 in /home/mbe/anaconda3/lib/python3.10/site-packages (from ipython>=7.23.1->ipykernel->octave-kernel>=0.34.0->oct2py) (2.11.2)\n",
      "Requirement already satisfied: parso<0.9.0,>=0.8.0 in /home/mbe/anaconda3/lib/python3.10/site-packages (from jedi>=0.18->metakernel>=0.24.0->octave-kernel>=0.34.0->oct2py) (0.8.3)\n",
      "Requirement already satisfied: platformdirs>=2.5 in /home/mbe/anaconda3/lib/python3.10/site-packages (from jupyter-core>=4.9.2->jupyter-client>=4.3.0->octave-kernel>=0.34.0->oct2py) (2.5.2)\n",
      "Requirement already satisfied: ptyprocess>=0.5 in /home/mbe/anaconda3/lib/python3.10/site-packages (from pexpect>=4.8->metakernel>=0.24.0->octave-kernel>=0.34.0->oct2py) (0.7.0)\n",
      "Requirement already satisfied: six>=1.5 in /home/mbe/anaconda3/lib/python3.10/site-packages (from python-dateutil>=2.8.2->jupyter-client>=4.3.0->octave-kernel>=0.34.0->oct2py) (1.15.0)\n",
      "Requirement already satisfied: wcwidth in /home/mbe/anaconda3/lib/python3.10/site-packages (from prompt-toolkit<3.1.0,>=3.0.30->ipython>=7.23.1->ipykernel->octave-kernel>=0.34.0->oct2py) (0.2.5)\n",
      "Requirement already satisfied: asttokens in /home/mbe/anaconda3/lib/python3.10/site-packages (from stack-data->ipython>=7.23.1->ipykernel->octave-kernel>=0.34.0->oct2py) (2.0.5)\n",
      "Requirement already satisfied: executing in /home/mbe/anaconda3/lib/python3.10/site-packages (from stack-data->ipython>=7.23.1->ipykernel->octave-kernel>=0.34.0->oct2py) (0.8.3)\n",
      "Requirement already satisfied: pure-eval in /home/mbe/anaconda3/lib/python3.10/site-packages (from stack-data->ipython>=7.23.1->ipykernel->octave-kernel>=0.34.0->oct2py) (0.2.2)\n"
     ]
    }
   ],
   "source": [
    "# installation de l'API\n",
    "!pip install oct2py"
   ]
  },
  {
   "attachments": {},
   "cell_type": "markdown",
   "metadata": {},
   "source": [
    "#### Exécution du modèle sur la dataset  `MSRC-v1`"
   ]
  },
  {
   "cell_type": "code",
   "execution_count": 336,
   "metadata": {},
   "outputs": [
    {
     "name": "stdout",
     "output_type": "stream",
     "text": [
      "warning: function ./MVGL-master/run.m shadows a core library function\n",
      "warning: function ./MVGL-master/test.m shadows a core library function\n",
      "warning: addpath: ./tools: Aucun fichier ou dossier de ce type\n",
      "y =\n",
      "\n",
      "   0.50000   0.50000\n",
      "\n"
     ]
    },
    {
     "data": {
      "text/plain": [
       "array([[0.5, 0.5]])"
      ]
     },
     "execution_count": 336,
     "metadata": {},
     "output_type": "execute_result"
    }
   ],
   "source": [
    "# test d'utilisation de l'API pour exécuter le code matlab\n",
    "from oct2py import octave\n",
    "\n",
    "octave.addpath(octave.genpath('./MVGL-master'))\n",
    "y = octave.feval(\"test.m\", [2 , 2])\n",
    "y"
   ]
  },
  {
   "cell_type": "code",
   "execution_count": 365,
   "metadata": {},
   "outputs": [
    {
     "name": "stdout",
     "output_type": "stream",
     "text": [
      "warning: addpath: ./tools: Aucun fichier ou dossier de ce type\n"
     ]
    }
   ],
   "source": [
    "# nombre de clusters\n",
    "k = 7\n",
    "\n",
    "# exécution du modèle\n",
    "Sv, A, P, obj = octave.feval(\n",
    "    \"MVGL.m\", dataset_msrc_v1['X'], k)\n",
    "\n",
    "Sv = Sv[0]\n",
    "A = A[0]\n",
    "P = P[0]\n",
    "obj = obj[0][0]"
   ]
  },
  {
   "cell_type": "code",
   "execution_count": 366,
   "metadata": {},
   "outputs": [],
   "source": [
    "# attribution des observations aux clusters\n",
    "\n",
    "labels_clusters = labels_connected_component(\n",
    "    construct_graph_similarity((A+A.T)/2))"
   ]
  },
  {
   "attachments": {},
   "cell_type": "markdown",
   "metadata": {},
   "source": [
    "visualisation de la courbe de convergence"
   ]
  },
  {
   "cell_type": "code",
   "execution_count": 367,
   "metadata": {},
   "outputs": [
    {
     "data": {
      "text/plain": [
       "[<matplotlib.lines.Line2D at 0x7f4197dee4a0>]"
      ]
     },
     "execution_count": 367,
     "metadata": {},
     "output_type": "execute_result"
    },
    {
     "data": {
      "image/png": "[encoded data removed]",
      "text/plain": [
       "<Figure size 640x480 with 1 Axes>"
      ]
     },
     "metadata": {},
     "output_type": "display_data"
    }
   ],
   "source": [
    "import seaborn as sns; sns.set()\n",
    "import matplotlib.pyplot as plt\n",
    "\n",
    "\n",
    "plt.xlabel('Itération')\n",
    "plt.ylabel('obj')\n",
    "plt.title(' Convergence')\n",
    "plt.plot(obj)"
   ]
  },
  {
   "cell_type": "code",
   "execution_count": 368,
   "metadata": {},
   "outputs": [
    {
     "data": {
      "image/png": "[encoded data removed]",
      "text/plain": [
       "<Figure size 640x480 with 2 Axes>"
      ]
     },
     "metadata": {},
     "output_type": "display_data"
    }
   ],
   "source": [
    "import seaborn as sns; sns.set()\n",
    "ax = sns.heatmap(P, cmap=\"Blues\")"
   ]
  },
  {
   "attachments": {},
   "cell_type": "markdown",
   "metadata": {},
   "source": [
    "cacul des métriques"
   ]
  },
  {
   "cell_type": "code",
   "execution_count": 369,
   "metadata": {},
   "outputs": [
    {
     "data": {
      "text/plain": [
       "{'ACC': 0.6666666666666666,\n",
       " 'NMI': 0.6336244845986041,\n",
       " 'PUR': 0.7095238095238096}"
      ]
     },
     "execution_count": 369,
     "metadata": {},
     "output_type": "execute_result"
    }
   ],
   "source": [
    "clusteringMeasure(dataset_msrc_v1[\"Y\"], labels_clusters)"
   ]
  },
  {
   "attachments": {},
   "cell_type": "markdown",
   "metadata": {},
   "source": [
    "#### experimentations sur toutes les datasets"
   ]
  },
  {
   "cell_type": "code",
   "execution_count": 16,
   "metadata": {},
   "outputs": [
    {
     "name": "stdout",
     "output_type": "stream",
     "text": [
      "***** Experimentations sur la dataset MSRC-v1 (en cours)\n",
      "warning: addpath: ./tools: Aucun fichier ou dossier de ce type\n",
      "fin\n",
      "\n"
     ]
    }
   ],
   "source": [
    "metrics_ref = {\"dataset\": [], \"ACC\": [], \"NMI\": [], \"PUR\": [], }\n",
    "for dataset in datasets:\n",
    "    if dataset[\"can_use_exp\"]:\n",
    "        print(\n",
    "            '***** Experimentations sur la dataset {} (en cours)'.format(dataset[\"name\"]))\n",
    "\n",
    "        # recuperation des paramètres pour le modèle\n",
    "        k = dataset[\"parameters\"][\"k\"]\n",
    "\n",
    "        # execution du modèle en utilisant les paramètres\n",
    "        _, A, _, _ = octave.feval(\"MVGL.m\", dataset[\"X\"], k)\n",
    "        A = A[0]\n",
    "\n",
    "        # construction des clusters\n",
    "        labels_clusters = labels_connected_component(\n",
    "            construct_graph_similarity((A+A.T)/2))\n",
    "\n",
    "        # calcul des métriques\n",
    "        result = clusteringMeasure(dataset_msrc_v1[\"Y\"], labels_clusters)\n",
    "        metrics_ref[\"dataset\"] = dataset[\"name\"]\n",
    "        metrics_ref[\"ACC\"].append(result[\"ACC\"])\n",
    "        metrics_ref[\"NMI\"].append(result[\"NMI\"])\n",
    "        metrics_ref[\"PUR\"].append(result[\"PUR\"])\n",
    "        print(\"fin\\n\")\n"
   ]
  },
  {
   "cell_type": "code",
   "execution_count": 17,
   "metadata": {},
   "outputs": [
    {
     "data": {
      "text/html": [
       "<div>\n",
       "<style scoped>\n",
       "    .dataframe tbody tr th:only-of-type {\n",
       "        vertical-align: middle;\n",
       "    }\n",
       "\n",
       "    .dataframe tbody tr th {\n",
       "        vertical-align: top;\n",
       "    }\n",
       "\n",
       "    .dataframe thead th {\n",
       "        text-align: right;\n",
       "    }\n",
       "</style>\n",
       "<table border=\"1\" class=\"dataframe\">\n",
       "  <thead>\n",
       "    <tr style=\"text-align: right;\">\n",
       "      <th></th>\n",
       "      <th>dataset</th>\n",
       "      <th>ACC</th>\n",
       "      <th>NMI</th>\n",
       "      <th>PUR</th>\n",
       "    </tr>\n",
       "  </thead>\n",
       "  <tbody>\n",
       "    <tr>\n",
       "      <th>0</th>\n",
       "      <td>MSRC-v1</td>\n",
       "      <td>0.666667</td>\n",
       "      <td>0.633624</td>\n",
       "      <td>0.709524</td>\n",
       "    </tr>\n",
       "  </tbody>\n",
       "</table>\n",
       "</div>"
      ],
      "text/plain": [
       "   dataset       ACC       NMI       PUR\n",
       "0  MSRC-v1  0.666667  0.633624  0.709524"
      ]
     },
     "execution_count": 17,
     "metadata": {},
     "output_type": "execute_result"
    }
   ],
   "source": [
    "metrics_ref = pd.DataFrame(metrics_ref)\n",
    "metrics_ref.to_json(\"metrics_ref.json\")\n",
    "metrics_ref"
   ]
  },
  {
   "attachments": {},
   "cell_type": "markdown",
   "metadata": {},
   "source": [
    "### modèle `MVGL` en python"
   ]
  },
  {
   "attachments": {},
   "cell_type": "markdown",
   "metadata": {},
   "source": [
    "#### Implémentaion du modèle\n",
    "\n",
    "`!!! Pas encore près`"
   ]
  },
  {
   "cell_type": "code",
   "execution_count": 349,
   "metadata": {},
   "outputs": [],
   "source": [
    "def EProgSimplex_new(b, l=1):\n",
    "    #\n",
    "    # Problem\n",
    "    #\n",
    "    #  min  1/2 || x - b||^2\n",
    "    #  s.t. x>=0, 1'x=l\n",
    "    #\n",
    "    n = b.shape[0]\n",
    "    x = b - np.mean(b) + l/n\n",
    "    if np.min(x) < 0:\n",
    "        # diff = |1'x - l|\n",
    "        diff = 1\n",
    "        lambda_m = 0\n",
    "        it = 0\n",
    "        x0 = x\n",
    "        while  np.abs(diff) > 1e-10:\n",
    "            x = x0 - lambda_m\n",
    "            npos = np.sum(x > 0)\n",
    "            diff = np.sum(x[x > 0]) - l\n",
    "            lambda_m = lambda_m + diff/npos\n",
    "            it = it+1\n",
    "            if it > 100:\n",
    "                break\n",
    "        x[x < 0] = 0\n",
    "    return x\n"
   ]
  },
  {
   "cell_type": "code",
   "execution_count": 350,
   "metadata": {},
   "outputs": [],
   "source": [
    "def have_k_components(evs, k, epsilon=1e-11):\n",
    "    ok = False\n",
    "    taux = 1\n",
    "\n",
    "    # somme des k premieres valeurs propres\n",
    "    evs = np.sort(evs.real)\n",
    "    sum_propre = np.sum(evs[:k])\n",
    "    # on a moins de k composents connexes\n",
    "    if sum_propre > epsilon:\n",
    "        # on augmente l'importance de l'apprentissage des poids de clusters\n",
    "        taux = 2\n",
    "\n",
    "    # on a plus de k composents connexes\n",
    "    elif sum_propre + evs[k] < epsilon:\n",
    "        # on diminue l'importance de l'apprentissage des poids de clusters\n",
    "        taux = 1/2\n",
    "    else:\n",
    "        ok = True\n",
    "\n",
    "    return ok, taux\n"
   ]
  },
  {
   "cell_type": "code",
   "execution_count": 351,
   "metadata": {},
   "outputs": [],
   "source": [
    "def updateIndicator(S, k):\n",
    "    N = S.shape[0]\n",
    "    Z = (S + S.T) / 2\n",
    "    D = np.diag(np.sum(Z, axis=1))\n",
    "    L = D - Z\n",
    "\n",
    "    eigen_values, eigen_vectors = np.linalg.eig(L)\n",
    "    idx = np.argsort(eigen_values)\n",
    "    eigen_values = eigen_values[idx]\n",
    "    eigen_vectors = eigen_vectors[:, idx]\n",
    "\n",
    "    return eigen_values, eigen_vectors[:, :k]\n"
   ]
  },
  {
   "cell_type": "code",
   "execution_count": 352,
   "metadata": {},
   "outputs": [],
   "source": [
    "def updateSv(P, beta):\n",
    "\n",
    "    N = P.shape[0]\n",
    "    gj = np.zeros(N, dtype=float)\n",
    "    S = np.zeros((N, N))\n",
    "\n",
    "    for j in range(N):\n",
    "        for i in range(N):\n",
    "            gj[i] = np.linalg.norm(P[i] - P[j])**2\n",
    "\n",
    "        # on recupere les vecteurs booléans qui indique les noeuds\n",
    "        # à prendre en compte\n",
    "        # on considère tous les noeuds si handle_only_k_top_neighbour = False\n",
    "        # idv = [True for _ in range(N)]\n",
    "        # if handle_only_k_top_neighbour:\n",
    "        #     for i in np.argsort(gj)[1:(k+1)]:\n",
    "        #         idv[i] = False\n",
    "\n",
    "        b = -(gj / 2 / beta)\n",
    "        S[:, j] = EProgSimplex_new(b)\n",
    "\n",
    "    return S\n"
   ]
  },
  {
   "cell_type": "code",
   "execution_count": 354,
   "metadata": {},
   "outputs": [],
   "source": [
    "def learningSv(X, k, max_iters_S=30):\n",
    "    # initialisation\n",
    "    Q = X.T\n",
    "    N = Q.shape[0]\n",
    "    S = np.zeros((N, N))\n",
    "    beta = 1\n",
    "\n",
    "    for _ in range(max_iters_S):\n",
    "        # > update S\n",
    "        S = updateSv(Q, beta)\n",
    "\n",
    "        # > update Q\n",
    "        evs, Q = updateIndicator(S, k)\n",
    "\n",
    "        # > vérification de la convergence\n",
    "        ok, taux = have_k_components(evs, k)\n",
    "        if ok:\n",
    "            break\n",
    "        else:\n",
    "            beta = beta / taux\n",
    "\n",
    "    return S\n"
   ]
  },
  {
   "cell_type": "code",
   "execution_count": 355,
   "metadata": {},
   "outputs": [],
   "source": [
    "def learningS(X, k):\n",
    "    # nombre de vues\n",
    "    V = len(X)\n",
    "    # nombre d'observations\n",
    "    N = X[0].shape[1]\n",
    "\n",
    "    S = np.zeros((V, N, N))\n",
    "    for v in range(V):\n",
    "        S[v] = learningSv(X[v], k)\n",
    "    return S\n"
   ]
  },
  {
   "cell_type": "code",
   "execution_count": 356,
   "metadata": {},
   "outputs": [],
   "source": [
    "def updateA(A0, P, gamma):\n",
    "\n",
    "    # on vérifie si A0 possède k composantes connexes\n",
    "    # si oui on retourne A0\n",
    "    # sinon on calcule A\n",
    "    # objectif: gagner en temps pour la résolution du problème\n",
    "    # evs, _ = updateIndicator(A0, k)\n",
    "    # ok, _ = have_k_components(evs, k)\n",
    "    # if ok:\n",
    "    #     return A0\n",
    "\n",
    "    N = P.shape[0]\n",
    "    hj = np.zeros(N, dtype=float)\n",
    "    A = np.zeros((N, N))\n",
    "\n",
    "    for j in range(N):\n",
    "        for i in range(N):\n",
    "            hj[i] = np.linalg.norm(P[i] - P[j])**2\n",
    "\n",
    "        # on recupere les vecteurs booléans qui indique les noeuds\n",
    "        # à prendre en compte\n",
    "        # on considère tous les noeuds si handle_only_neighbour = False\n",
    "        # idv = [True for _ in range(N)]\n",
    "        # if handle_only_neighbour:\n",
    "        #     idv = A0[:, j] > 0\n",
    "\n",
    "        b = -(gamma * hj/ 2) + A0[:, j]\n",
    "        A[:, j] = EProgSimplex_new(b)\n",
    "\n",
    "    return A"
   ]
  },
  {
   "cell_type": "code",
   "execution_count": 357,
   "metadata": {},
   "outputs": [],
   "source": [
    "def updateW(A, S, eps=2.2204e-16):\n",
    "\n",
    "    N = A.shape[0]\n",
    "    V = S.shape[0]\n",
    "\n",
    "    Zj = np.zeros((N, V))\n",
    "    W = np.zeros((N, V))\n",
    "    ones = np.ones(V)\n",
    "\n",
    "    for j in range(N):\n",
    "\n",
    "        for v in range(V):\n",
    "            Zj[:, v] = A[:, j] * S[v, :, j]\n",
    "\n",
    "        C = np.dot(Zj.T, Zj)\n",
    "        # regularisation de tikhonov \n",
    "        # objectif : éviter que C soit une matrice singulière (non inversible)\n",
    "        C = C + np.eye(V) * eps * np.trace(C)\n",
    "        inv = np.linalg.inv(C)\n",
    "        # W[j] = np.dot(inv, ones) / np.dot(ones, np.dot(inv, ones))\n",
    "        inv = np.dot(inv, ones)\n",
    "        W[j] = inv / np.dot(ones, inv)\n",
    "\n",
    "    return W\n"
   ]
  },
  {
   "cell_type": "code",
   "execution_count": 359,
   "metadata": {},
   "outputs": [],
   "source": [
    "def learningA(S, k, max_iters=30, epsilon=1e-3):\n",
    "    V = S.shape[0]\n",
    "    N = S.shape[1]\n",
    "\n",
    "    # initialisation\n",
    "    W = np.ones((N, V))/V\n",
    "    A = np.zeros((N, N))\n",
    "    for j in range(N):\n",
    "        for v in range(V):\n",
    "            A[:, j] += W[j, v] * S[v, :, j]\n",
    "    _, P = updateIndicator(A, k)\n",
    "    A0 = A\n",
    "\n",
    "    obj_old = 1\n",
    "    obj = 10\n",
    "    objectives = []\n",
    "    it = 0\n",
    "    while abs((obj - obj_old)/obj_old) > epsilon:\n",
    "        it = it + 1\n",
    "\n",
    "        gamma = 1\n",
    "        for _ in range(max_iters):\n",
    "            # > update A\n",
    "            A = updateA(A0, P, gamma)\n",
    "\n",
    "            # > update P\n",
    "            Q = P\n",
    "            evs, P = updateIndicator(A, k)\n",
    "\n",
    "            # > verification de la convergence\n",
    "            ok, taux = have_k_components(evs, k)\n",
    "\n",
    "            if ok:\n",
    "                break\n",
    "            else:\n",
    "                gamma = gamma * taux\n",
    "                if taux < 0:\n",
    "                    P = Q\n",
    "\n",
    "        # > update W\n",
    "        W = updateW(A, S)\n",
    "\n",
    "        # calcul de la fonction objective\n",
    "        obj_old = obj\n",
    "        for j in range(N):\n",
    "            A0[:, j] = 0\n",
    "            for v in range(V):\n",
    "                A0[:, j] += W[j, v] * S[v, :, j]\n",
    "        obj = np.sum((A-A0)**2)\n",
    "        # np.trace(np.dot(np.dot(P.T, L), P)) = 0 car on a déja k composantes connexes)\n",
    "        objectives.append(obj)\n",
    "\n",
    "        print(obj)\n",
    "\n",
    "    return objectives, A\n"
   ]
  },
  {
   "cell_type": "code",
   "execution_count": 361,
   "metadata": {},
   "outputs": [],
   "source": [
    "def MVGL(X, k, beta=1, lambda_=1, epsilon=1e-3):\n",
    "\n",
    "    # > appretissage des graphes de similarité pour chacune des vues\n",
    "    S = learningS(X, k)\n",
    "\n",
    "    # > fusion des graphes de similarités\n",
    "    objectives, A = learningA(S, k, epsilon=epsilon)\n",
    "    G = construct_graph_similarity((A+A.T)/2)\n",
    "\n",
    "    # > calcul des labels de composantes connexes\n",
    "    labels = labels_connected_component(G)\n",
    "\n",
    "    _, P = updateIndicator(A, k)\n",
    "    return {\"A\": A, \"P\": P.real, \"obj\": objectives, \"labels\": labels}\n"
   ]
  },
  {
   "cell_type": "code",
   "execution_count": null,
   "metadata": {},
   "outputs": [],
   "source": [
    "# nombre de clusters\n",
    "k = 7\n",
    "\n",
    "# exécution du modèle\n",
    "result = MVGL(dataset_msrc_v1['X'], k)"
   ]
  },
  {
   "cell_type": "code",
   "execution_count": null,
   "metadata": {},
   "outputs": [],
   "source": [
    "import seaborn as sns; sns.set()\n",
    "import matplotlib.pyplot as plt\n",
    "\n",
    "\n",
    "plt.xlabel('Itération')\n",
    "plt.ylabel('obj')\n",
    "plt.title(' Convergence')\n",
    "plt.plot(result[\"obj\"])"
   ]
  }
 ],
 "metadata": {
  "kernelspec": {
   "display_name": "Python 3.10.9 ('base')",
   "language": "python",
   "name": "python3"
  },
  "language_info": {
   "codemirror_mode": {
    "name": "ipython",
    "version": 3
   },
   "file_extension": ".py",
   "mimetype": "text/x-python",
   "name": "python",
   "nbconvert_exporter": "python",
   "pygments_lexer": "ipython3",
   "version": "3.10.9"
  },
  "orig_nbformat": 4,
  "vscode": {
   "interpreter": {
    "hash": "60f388d0588c717d436b1e7a54042599b5c2d909826589dfb14cd29e2df9cda0"
   }
  }
 },
 "nbformat": 4,
 "nbformat_minor": 2
}
