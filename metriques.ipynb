{
 "cells": [
  {
   "attachments": {},
   "cell_type": "markdown",
   "metadata": {},
   "source": [
    "### Métriques"
   ]
  },
  {
   "attachments": {},
   "cell_type": "markdown",
   "metadata": {},
   "source": [
    "`NB`: Pour le clustering\n",
    "* X est le vecteur des étiquetes des observations\n",
    "* Y est le vecteur des identifiants de clusters des observations\n",
    "* n = |X| = |Y|: est le nombre d'observations\n",
    "* X' est l'ensemble des valeurs possibles contenus dans X\n",
    "* Y' est l'ensemble des valeurs possibles contenus dans Y"
   ]
  },
  {
   "attachments": {},
   "cell_type": "markdown",
   "metadata": {},
   "source": [
    "#### `Information mutuelle, Information mutuelle normalisé`"
   ]
  },
  {
   "attachments": {},
   "cell_type": "markdown",
   "metadata": {},
   "source": [
    "`Information mutuelle`\n",
    "\n",
    "l'information mutuelle entre deux vecteurs(ou variables aléatoires) X, Y est une quantification en moyenne des informations contenues dans les deux variables simmultanément.\n",
    "Il permet de mésurer à quel point les éléments de X et Y se ressemblent, selon leur dispersion et leur taux (probabilité) d'apparition.\n",
    "Il peut ainsi permettre de mésurer la similitude entre deux vecteurs X et Y.\n",
    "\n",
    "\n",
    "La formule de l'information mutuelle est la suivante:\n",
    "\n",
    "$ I(X,Y) = \\sum_{x,y} P(x,y)\\times \\text{Inf}(x,y) \\text{ avec } \\text{Inf}(x,y) = \\log\\left( \\frac{P(x,y)}{P(x)*P(y)} \\right) $\n",
    "\n",
    "En notant que `x` et `y` designent respectivement des valeurs possibles de `X` et de `Y`, on peut affirmer que $\\text{Inf}(x,y)$ permet de mésurer la correspondance qu'on obtient de `x` et `y` dans le sens où si x et y sont semblables (au sens de leur probabilité d'apparition) alors $\\text{Inf}(x,y) = 1$. \n",
    "\n",
    "De plus:\n",
    "* plus x et y sont dépendants, plus $\\text{Inf}(x,y) \\rightarrow 1$ et $I(X,Y) \\rightarrow 1$\n",
    "* moins ils ne le sont, plus $\\text{Inf}(x,y) \\rightarrow 0$ et $I(X,Y) \\rightarrow 0$"
   ]
  },
  {
   "attachments": {},
   "cell_type": "markdown",
   "metadata": {},
   "source": [
    "`l'information mutuelle normalisé` entre X et Y est le rapport entre l'information mutuelle entre X et Y, et le produit des entropies (quantité d'information) de X et Y"
   ]
  },
  {
   "cell_type": "code",
   "execution_count": 1,
   "metadata": {},
   "outputs": [
    {
     "name": "stdout",
     "output_type": "stream",
     "text": [
      "NMI = 0.5636355530993448\n"
     ]
    }
   ],
   "source": [
    "from sklearn.metrics import normalized_mutual_info_score\n",
    "\n",
    "labels = [0, 1, 2, 1, 0, 0, 2]\n",
    "labels_clusters = [2, 1, 0, 2, 2, 1, 0]\n",
    "\n",
    "NMI = normalized_mutual_info_score(labels, labels_clusters)\n",
    "print(f\"NMI = {NMI}\")"
   ]
  },
  {
   "attachments": {},
   "cell_type": "markdown",
   "metadata": {},
   "source": [
    "#### `Exactitude`"
   ]
  },
  {
   "attachments": {},
   "cell_type": "markdown",
   "metadata": {},
   "source": [
    "l'exactitude permet de mésurer ou encore d'estimer la probabilité de prédictions exactes d'un modèle supervisé.\n",
    "\n",
    "Il mésure pour deux séquences X et Y, le taux d'éléments contenus dans X et Y suivant leur ordre. Ce taux peut ainsi etre vu comme un taux de similitude entre X et Y en sachant qu'ils ont des éléments contenus dans un meme ensemble de valeurs possibles.\n",
    "\n",
    "En clustering, comme ce n'est pas le cas, il faut trouver la correspondance entre un element `x` des valeurs possibles de X et un element `y` des valeurs possibles de Y, de tel sorte qu'on aura l'exactitude maximale.\n",
    "\n",
    "On peut donc voir qu'on revient à un problème d'allocation de ressources, où on souhaite allouer un cluster `y` à une étiquete `x`, avec le cout étant le nombre de correspondance en position entre `y` et `x`.\n",
    "\n",
    "On a donc :\n",
    "\n",
    "$ ACC(X,Y) = \\max_{alloc \\in P} \\frac{1}{n} \\sum_{i=1}^{n} 1(alloc(Y_i) = X_i) $ \n",
    "\n",
    "avec \"$P$\" étant l'ensemble des permutations possibles de Y et \"$\\text{alloc}$\" la fonction d'allocation à trouver \n",
    "\n",
    "Ainsi ce qu'on souhaite c'est que $ACC(X,Y)$ soit égale à 1 ou proche de 1"
   ]
  },
  {
   "cell_type": "code",
   "execution_count": 3,
   "metadata": {},
   "outputs": [
    {
     "name": "stdout",
     "output_type": "stream",
     "text": [
      " le cluster 2 correspond à la classe 0\n",
      " le cluster 1 correspond à la classe 1\n",
      " le cluster 0 correspond à la classe 2\n",
      "ACC = 0.7142857142857143\n"
     ]
    }
   ],
   "source": [
    "from sklearn.metrics import confusion_matrix\n",
    "from scipy.optimize import linear_sum_assignment\n",
    "import numpy as np\n",
    "\n",
    "cm = confusion_matrix(labels, labels_clusters)\n",
    "# on trouve l'allocation idéale en resolvant le problème de maximisation transformé en problème de minimisation\n",
    "cm_for_alignement = -np.array(cm)\n",
    "rowCorrect, ColCorrect = linear_sum_assignment(cm_for_alignement)\n",
    "cm_for_alignement = cm[:,ColCorrect]\n",
    "\n",
    "for i in range(len(ColCorrect)):\n",
    "    print(f\" le cluster {ColCorrect[i]} correspond à la classe {rowCorrect[i]}\")\n",
    "\n",
    "ACC = np.trace(cm_for_alignement) / np.sum(cm_for_alignement)\n",
    "print(f\"ACC = {ACC}\")"
   ]
  },
  {
   "attachments": {},
   "cell_type": "markdown",
   "metadata": {},
   "source": [
    "`NB` : les étiquetes sont en lignes et les clusters en colonnes"
   ]
  },
  {
   "cell_type": "code",
   "execution_count": 10,
   "metadata": {},
   "outputs": [
    {
     "data": {
      "image/png": "[encoded data removed]",
      "text/plain": [
       "<Figure size 640x480 with 2 Axes>"
      ]
     },
     "metadata": {},
     "output_type": "display_data"
    }
   ],
   "source": [
    "import seaborn as sns\n",
    "ax = sns.heatmap(cm, cmap=\"Blues\")"
   ]
  },
  {
   "cell_type": "code",
   "execution_count": 11,
   "metadata": {},
   "outputs": [
    {
     "data": {
      "image/png": "[encoded data removed]",
      "text/plain": [
       "<Figure size 640x480 with 2 Axes>"
      ]
     },
     "metadata": {},
     "output_type": "display_data"
    }
   ],
   "source": [
    "ax = sns.heatmap(cm_for_alignement,cmap=\"Blues\")"
   ]
  },
  {
   "attachments": {},
   "cell_type": "markdown",
   "metadata": {},
   "source": [
    "#### `Pureté`"
   ]
  },
  {
   "attachments": {},
   "cell_type": "markdown",
   "metadata": {},
   "source": [
    "La purété est une mésure qu'on utilise pour quantifier le dégré d'homogénité d'une sequence Y compte tenu d'une autre X.\n",
    "On a :\n",
    "\n",
    "$ PUR(X,Y) = \\frac{ \\sum_{ y \\in Y'} \\left( \\max_{x \\in X'} card(\\{ i| X_i = x, Y_i = y, i \\in 1..n \\})\\right)}{n} $\n",
    "\n",
    "X' et Y' étant les ensembles de valeurs possibles de X et Y respectivement.\n",
    "\n",
    "Il permet de quantifier l'homogénité, dans la mésure où pour chaque valeur possible de Y, on recherche la valeur possible de X qui correspond le plus (en terme d'apparition en ordre). Or cela traduit en un sens l'homogénité. \n",
    "\n",
    "On voit que:\n",
    "* plus on a des groupes de 'y' homogènes selon X, plus $PUR(X,Y) \\rightarrow 1$ \n",
    "* moins on a des groupes de 'y' homogènes selon X, plus $PUR(X,Y) \\rightarrow 0$ \n",
    "\n",
    "Plus il y'a on voit des "
   ]
  },
  {
   "cell_type": "code",
   "execution_count": 12,
   "metadata": {},
   "outputs": [
    {
     "name": "stdout",
     "output_type": "stream",
     "text": [
      "PUR = 0.7142857142857143\n"
     ]
    }
   ],
   "source": [
    "cm = confusion_matrix(labels, labels_clusters)\n",
    "PUR = np.sum(np.max(cm, axis=0)) / np.sum(cm)\n",
    "print(f\"PUR = {PUR}\")"
   ]
  },
  {
   "cell_type": "code",
   "execution_count": null,
   "metadata": {},
   "outputs": [],
   "source": []
  }
 ],
 "metadata": {
  "kernelspec": {
   "display_name": "Python 3.10.9 ('base')",
   "language": "python",
   "name": "python3"
  },
  "language_info": {
   "codemirror_mode": {
    "name": "ipython",
    "version": 3
   },
   "file_extension": ".py",
   "mimetype": "text/x-python",
   "name": "python",
   "nbconvert_exporter": "python",
   "pygments_lexer": "ipython3",
   "version": "3.10.9"
  },
  "orig_nbformat": 4,
  "vscode": {
   "interpreter": {
    "hash": "60f388d0588c717d436b1e7a54042599b5c2d909826589dfb14cd29e2df9cda0"
   }
  }
 },
 "nbformat": 4,
 "nbformat_minor": 2
}
